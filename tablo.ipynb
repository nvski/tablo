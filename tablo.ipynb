{
 "cells": [
  {
   "cell_type": "code",
   "execution_count": 1,
   "metadata": {},
   "outputs": [],
   "source": [
    "import asyncio\n",
    "import logging\n",
    "import math\n",
    "import time\n",
    "import typing as tp\n",
    "from functools import singledispatch\n",
    "from datetime import datetime\n",
    "\n",
    "import apds9930\n",
    "# import numpy as np\n",
    "# from pyowm.owm import OWM\n",
    "from PIL import Image, ImageDraw, ImageFont\n",
    "import apds9930\n",
    "from rgbmatrix import RGBMatrix, RGBMatrixOptions\n",
    "\n",
    "\n",
    "apds9930.APDS9930_IDs = [0x29, 0x39]"
   ]
  },
  {
   "cell_type": "code",
   "execution_count": 2,
   "metadata": {},
   "outputs": [],
   "source": [
    "class Tablo:\n",
    "    def __init__(self, brightness: int = 30) -> None:\n",
    "        options = RGBMatrixOptions()\n",
    "        options.drop_privileges = False\n",
    "        options.rows = 64\n",
    "        options.cols = 128\n",
    "        options.chain_length = 2\n",
    "        options.led_rgb_sequence = 'RBG'\n",
    "        options.panel_type = 'FM6126A'\n",
    "        options.hardware_mapping = 'regular'\n",
    "        options.gpio_slowdown = 2\n",
    "        options.pwm_bits = 11\n",
    "        options.pwm_dither_bits = 2\n",
    "        options.pwm_lsb_nanoseconds = 50\n",
    "\n",
    "        self.matrix = RGBMatrix(options = options)\n",
    "        self.matrix.brightness = brightness\n",
    "        self.image = Image.new('RGB', (256,64), 'black')\n",
    "\n",
    "    def update(self, brightness: tp.Optional[int] = None) -> None:\n",
    "        if brightness is not None:\n",
    "            self.matrix.brightness = brightness\n",
    "        self.matrix.SetImage(self.image)\n",
    "\n",
    "    def clear(self) -> None:\n",
    "        self.image = Image.new('RGB', (256,64), 'black')\n",
    "        self.update()\n",
    "        \n",
    "\n",
    "Widget = tp.TypeVar('Widget')\n",
    "\n",
    "class Widget:\n",
    "    running_set: tp.Set[Widget] = set()\n",
    "\n",
    "    @staticmethod\n",
    "    def stop_all():\n",
    "        for w in Widget.running_set.copy():\n",
    "            w.stop()\n",
    "\n",
    "    def __init__(self, size: tp.Tuple[int, int], position = (0,0)) -> None:\n",
    "        self.w, self.h = self.size = size\n",
    "        self.x, self.y = self.position = position\n",
    "        self.task: tp.Optional[asyncio.Task] = None\n",
    "        \n",
    "        self.image = Image.new(\"RGB\", self.size, '#000000')\n",
    "        self.draw = ImageDraw.Draw(self.image)\n",
    "\n",
    "    def clear(self) -> None:\n",
    "        self.draw.rectangle((0,0)+self.size, fill='#000000')\n",
    "        #self.place()\n",
    "\n",
    "    def _place(self) -> None:\n",
    "        tablo.image.paste(self.image, box=self.position)\n",
    "        tablo.update()\n",
    "\n",
    "    def update_frame(self):\n",
    "        pass\n",
    "        #to be defined in subclasses individually\n",
    "\n",
    "    async def _start(self, rr: float) -> None:\n",
    "        Widget.running_set.add(self)\n",
    "        while self in Widget.running_set:\n",
    "            self.update_frame()\n",
    "            self._place()\n",
    "            await asyncio.sleep(rr - time.time() % rr)\n",
    "\n",
    "    def start(self, rr: float=5) -> Widget:\n",
    "        if self in Widget.running_set:\n",
    "            raise Warning(\"Trying to start smth already running. Nothing is done.\")\n",
    "            return\n",
    "        self.task = asyncio.create_task(self._start(rr),\n",
    "                                        name=str(self.__class__.__name__)\n",
    "                                        )\n",
    "        return self\n",
    "\n",
    "    def stop(self) -> None:\n",
    "        Widget.running_set -= {self}\n",
    "        # asyncio.wait_for(asyncio.wait(self.task), timeout=1)"
   ]
  },
  {
   "cell_type": "code",
   "execution_count": 3,
   "metadata": {},
   "outputs": [],
   "source": [
    "try:\n",
    "    del(tablo)\n",
    "    Widget.stop_all()\n",
    "except Exception:\n",
    "    pass\n",
    "tablo = Tablo()"
   ]
  },
  {
   "cell_type": "code",
   "execution_count": 4,
   "metadata": {},
   "outputs": [],
   "source": [
    "# def white_screen_test(b=None):\n",
    "#     try:\n",
    "#         print(-3)\n",
    "#         tablo\n",
    "#         print(-2)\n",
    "#     except NameError:\n",
    "#         print(-1.5)\n",
    "#         tablo = Tablo(20)\n",
    "#         print(-1)\n",
    "#     if b is None: b=20\n",
    "#     print(0)\n",
    "#     tablo.update(b)\n",
    "\n",
    "#     print(1)\n",
    "#     tablo.matrix.SetImage(\n",
    "#             Image.new('RGB', (256,64), '#ffffff'),\n",
    "#             0, 0\n",
    "#             )\n",
    "#     print(2)\n",
    "#     tablo.matrix.SetImage(\n",
    "#             Image.new('RGB', (64,64), '#000000'),\n",
    "#             128, 32\n",
    "#             )\n",
    "#     # tablo.matrix.SetImage(\n",
    "#     #       Image.new('RGB', (64,64),'#ffffff'), 64*3,0\n",
    "#     # )\n",
    "#     print(3)\n",
    "#     time.sleep(0.1)\n",
    "#     print(4)\n",
    "#     tablo.clear()\n",
    "#     print(5)\n",
    "    \n",
    "# white_screen_test()"
   ]
  },
  {
   "cell_type": "code",
   "execution_count": 5,
   "metadata": {},
   "outputs": [
    {
     "data": {
      "text/plain": [
       "{<Task pending name='Task-1' coro=<run_test() running at <ipython-input-5-b1176e768205>:16>>}"
      ]
     },
     "execution_count": 5,
     "metadata": {},
     "output_type": "execute_result"
    }
   ],
   "source": [
    "class Test_W(Widget):\n",
    "    colors = [\"yellow\" ,\"red\", \"green\", \"blue\", \"white\"]\n",
    "\n",
    "    def __init__(self, *args):\n",
    "        super().__init__(*args)\n",
    "        self.n = 0\n",
    "\n",
    "    def update_frame(self):\n",
    "        y = self.n % self.h\n",
    "        color = self.colors[self.n//self.h]\n",
    "        self.draw.line((0, y,self.w, y), fill=color)\n",
    "        self.n += 1\n",
    "        self.n %= 64*len(self.colors)\n",
    "\n",
    "\n",
    "async def run_test():\n",
    "    example = Test_W((256, 64))\n",
    "    example.start(rr=0.01)\n",
    "    await asyncio.sleep(50)\n",
    "    example.stop()\n",
    "    tablo.clear()\n",
    "    \n",
    "asyncio.create_task(run_test())\n",
    "asyncio.all_tasks()"
   ]
  },
  {
   "cell_type": "code",
   "execution_count": 6,
   "metadata": {},
   "outputs": [],
   "source": [
    "DEFAULT_FONT = '/home/pi/Hack-Regular.ttf'\n",
    "\n",
    "class Time_W(Widget):\n",
    "    def __init__(self, *args,\n",
    "                 timezone: int=+3, t_format: str=\"%p %I:%M:%S\",\n",
    "                 font_name: str=DEFAULT_FONT, font_color=\"#ffffff\"\n",
    "                 ) -> None:\n",
    "        super().__init__(*args)\n",
    "        self.timezone = timezone\n",
    "        self.t_format = t_format\n",
    "        self.font_obj = ImageFont.truetype(font_name, self.h)\n",
    "        self.font_color = font_color\n",
    "    def update_frame(self) -> None:\n",
    "        self.clear()\n",
    "        t = time.time() + 3600*self.timezone\n",
    "        t = time.gmtime(t)\n",
    "        t_str = time.strftime(self.t_format, t)\n",
    "        self.draw.multiline_text((0,0), t_str, fill=self.font_color, font=self.font_obj)"
   ]
  },
  {
   "cell_type": "code",
   "execution_count": 7,
   "metadata": {},
   "outputs": [],
   "source": [
    "class Time_Arrows_W(Widget):\n",
    "    def __init__(self, *args, timezone: int=+3) -> None:\n",
    "        super().__init__(*args)\n",
    "        self.timezone = timezone\n",
    "\n",
    "    def update_frame(self) -> None:\n",
    "        self.clear()\n",
    "        t = time.time()\n",
    "        r = min(self.w, self.h)/2\n",
    "        for i in range(12):\n",
    "            x1 = r + r*math.cos(math.pi*i/6)\n",
    "            y1 = r + r*math.sin(math.pi*i/6)\n",
    "            x2 = r + 0.93*r*math.cos(math.pi*i/6)\n",
    "            y2 = r + 0.93*r*math.sin(math.pi*i/6)\n",
    "            fill=\"#ffffff\" if i%3==0 else \"#990000\"\n",
    "            self.draw.line((x1,y1,x2,y2), fill=fill)\n",
    "        \n",
    "        hx =   0.6*r*math.sin(math.pi*( (t/3600)%24+self.timezone )/6)\n",
    "        hy = - 0.6*r*math.cos(math.pi*( (t/3600)%24+self.timezone )/6)\n",
    "        self.draw.line((r,r,r+hx,r+hy), fill=\"#ffffff\")\n",
    "        \n",
    "        mx =   0.9*r*math.sin(math.pi*( (t/60)%60 )/30)\n",
    "        my = - 0.9*r*math.cos(math.pi*( (t/60)%60 )/30)\n",
    "        self.draw.line((r,r,r+mx,r+my), fill=\"#ffffff\")\n",
    "        \n",
    "        sx =   r*math.sin(math.pi*(t%60)/30)\n",
    "        sy = - r*math.cos(math.pi*(t%60)/30)\n",
    "        self.draw.line((r+sx,r+sy,r+0.95*sx,r+0.95*sy), fill=\"#ffffff\")"
   ]
  },
  {
   "cell_type": "code",
   "execution_count": 8,
   "metadata": {},
   "outputs": [
    {
     "data": {
      "text/plain": [
       "<__main__.BrightnessScheduler at 0xf1f5a2c8>"
      ]
     },
     "execution_count": 8,
     "metadata": {},
     "output_type": "execute_result"
    }
   ],
   "source": [
    "class BrightnessScheduler():\n",
    "    def _init_sensor(self):\n",
    "        self.sensor = apds9930.APDS9930(1)\n",
    "        self.sensor.set_mode(apds9930.ALL, True)\n",
    "\n",
    "    def __init__(self):\n",
    "        self.task = None\n",
    "        # self.history = np.zeros((20,))\n",
    "        self.current_brightness = None\n",
    "        self._running = False\n",
    "        self._init_sensor()\n",
    "\n",
    "    def count_brightness(self, light):\n",
    "        if light < 0:\n",
    "            light = 1500\n",
    "        brightness = 1.25*light**.65\n",
    "        brightness = round(brightness)\n",
    "        brightness = min(100, brightness)\n",
    "        brightness = max(3, brightness)\n",
    "        return brightness\n",
    "\n",
    "    async def _start(self, rr = .1):       \n",
    "        while self._running:\n",
    "            try:\n",
    "                new_brightness = self.count_brightness(self.sensor.ambient_light)\n",
    "                if self.current_brightness != new_brightness:\n",
    "                    self.current_brightness = new_brightness\n",
    "                    tablo.update(new_brightness)\n",
    "            except:\n",
    "                try: self._init_sensor()\n",
    "                except: pass\n",
    "            await asyncio.sleep(rr)\n",
    "    def start(self, *args, **kwargs):\n",
    "        self._running = True\n",
    "        self.task = asyncio.create_task(self._start(*args, **kwargs))\n",
    "        return self\n",
    "    def stop(self):\n",
    "        self._running = False\n",
    "        \n",
    "try:\n",
    "    bs.stop()\n",
    "except Exception:\n",
    "    pass\n",
    "\n",
    "bs = BrightnessScheduler()\n",
    "bs.start(rr=.05)"
   ]
  },
  {
   "cell_type": "code",
   "execution_count": 9,
   "metadata": {},
   "outputs": [],
   "source": [
    "class AmbientSensor_W(Widget):\n",
    "    def __init__(self, size, position=(0,0), sensor=None,\n",
    "                 font_name=DEFAULT_FONT, font_color='#808080', err_color=\"#F03030\"):\n",
    "        \n",
    "        super().__init__(size=size, position=position)\n",
    "        self.sensor = sensor if sensor is not None else bs.sensor\n",
    "        self.font_obj = ImageFont.truetype(font_name, self.h)\n",
    "        self.font_color = font_color\n",
    "        self.err_color = err_color\n",
    "    def update_frame(self):\n",
    "        self.clear()\n",
    "        light_str = f\" {tablo.matrix.brightness}\"\n",
    "        try:\n",
    "            light_str = f\"{round(self.sensor.ambient_light)}\" + light_str\n",
    "            color = self.font_color\n",
    "        except:\n",
    "            light_str = f\"Err\" + light_str\n",
    "            color = self.err_color\n",
    "        self.draw.multiline_text(\n",
    "            (0,0), light_str,\n",
    "            fill=color, font=self.font_obj)"
   ]
  },
  {
   "cell_type": "code",
   "execution_count": 10,
   "metadata": {},
   "outputs": [
    {
     "data": {
      "text/plain": [
       "<__main__.AmbientSensor_W at 0xf3bedcd0>"
      ]
     },
     "execution_count": 10,
     "metadata": {},
     "output_type": "execute_result"
    }
   ],
   "source": [
    "Widget.stop_all()\n",
    "tablo.clear()\n",
    "\n",
    "bs = BrightnessScheduler()\n",
    "bs.start(rr=.05)\n",
    "\n",
    "time_msk   = Time_W((128, 18), t_format=\"%p %I:%M:%S\", font_color='#ffffff')\n",
    "date_msk   = Time_W((128, 18), (0,18), t_format=\"%a %d/%m\", font_color='#ffffff')\n",
    "amb = AmbientSensor_W(size=(50,11), position=(206,0))\n",
    "\n",
    "time_msk.start(rr=1)\n",
    "date_msk.start(rr=5)\n",
    "amb.start(rr=0.2)"
   ]
  },
  {
   "cell_type": "code",
   "execution_count": 11,
   "metadata": {},
   "outputs": [
    {
     "data": {
      "text/plain": [
       "set()"
      ]
     },
     "execution_count": 11,
     "metadata": {},
     "output_type": "execute_result"
    }
   ],
   "source": [
    "Widget.running_set"
   ]
  },
  {
   "cell_type": "code",
   "execution_count": 12,
   "metadata": {},
   "outputs": [],
   "source": [
    "async def main():\n",
    "    Widget.stop_all()\n",
    "    tablo.clear()\n",
    "\n",
    "    time_HHMM   = Time_W((89, 29), (7, -2), t_format=\"%H:%M\", font_color='#ffffff')\n",
    "    time_SS = Time_W((20,16), (96, 0), t_format=\"%S\", font_color='#ffffff')\n",
    "    date_   = Time_W((120, 17), (2, 27), t_format=\"%a %d/%m/%y\", font_color='#999999')\n",
    "    amb = AmbientSensor_W(size=(50, 11), position=(206,0))\n",
    "\n",
    "    time_HHMM.start(rr=1)\n",
    "    time_SS.start(rr=1)\n",
    "    date_.start(rr=1)\n",
    "    amb.start(rr=.2)\n",
    "    \n",
    "t = asyncio.create_task(main())"
   ]
  },
  {
   "cell_type": "code",
   "execution_count": 13,
   "metadata": {},
   "outputs": [
    {
     "name": "stdout",
     "output_type": "stream",
     "text": [
      "3.9.5\n"
     ]
    },
    {
     "data": {
      "image/png": "[encoded data removed]",
      "text/plain": [
       "<PIL.Image.Image image mode=RGB size=256x64 at 0xF3BEDBE0>"
      ]
     },
     "execution_count": 13,
     "metadata": {},
     "output_type": "execute_result"
    }
   ],
   "source": [
    "from platform import python_version\n",
    "print(python_version())\n",
    "\n",
    "tablo.image"
   ]
  },
  {
   "cell_type": "code",
   "execution_count": 14,
   "metadata": {},
   "outputs": [],
   "source": [
    "import aiohttp  #instead requests\n",
    "import json\n",
    "\n",
    "\n",
    "class OWM_Weater_W(Widget):\n",
    "    one_call_api = 'http://api.openweathermap.org/data/2.5/onecall'\n",
    "    default_args = {\n",
    "        \"lang\": \"ru\",\n",
    "        \"lat\": \"55.927305\",\n",
    "        \"lon\": \"37.523576\"\n",
    "    }\n",
    "    \n",
    "    def __init__(self, size: tp.Tuple[int, int], position = (0,0)):\n",
    "        super().__init__(size, position)\n",
    "        with open(\"owm.key\") as file:\n",
    "            token = file.readline().rstrip()\n",
    "        self.args = {\"appid\": token} | OWM_Weater_W.default_args\n",
    "        self.data: tp.Dict[str, tp.Any] = self.update_data(True)\n",
    "        self.font_obj = ImageFont.truetype(font_name, self.h)\n",
    "        self.font_color = font_color\n",
    "\n",
    "    def update_data(self, force=False) -> tp.Dict[str, tp.Any]:\n",
    "        if force or self.data[\"dt\"] > datetime.now() + 5*60:\n",
    "            responce = requests.get(OWM_Weater_W.one_call_api+'?'+'&'.join(k+'='+v for k,v in self.args.itemsms()))\n",
    "            self.data = json.load(responce.content)\n",
    "        return self.data\n",
    "        \n",
    "    def update_frame(self) -> None:\n",
    "        self.clear()\n",
    "        weater = self.update_data()\n",
    "        w_str = weather[\"current\"][\"temp\"]\n",
    "        self.draw.multiline_text((0,0), w_str, fill=self.font_color, font=self.font_obj)"
   ]
  },
  {
   "cell_type": "code",
   "execution_count": 15,
   "metadata": {},
   "outputs": [
    {
     "data": {
      "text/plain": [
       "{<Task pending name='AmbientSensor_W' coro=<Widget._start() running at <ipython-input-2-bb417bdccfbd>:60>>,\n",
       " <Task pending name='Task-1' coro=<run_test() running at <ipython-input-5-b1176e768205>:19> wait_for=<Future pending cb=[<TaskWakeupMethWrapper object at 0xf3be4868>()]>>,\n",
       " <Task pending name='Task-3' coro=<BrightnessScheduler._start() running at <ipython-input-8-128e54762e50>:32> wait_for=<Future pending cb=[<TaskWakeupMethWrapper object at 0xf3bded18>()]>>,\n",
       " <Task pending name='Task-4' coro=<BrightnessScheduler._start() running at <ipython-input-8-128e54762e50>:22>>,\n",
       " <Task pending name='Task-8' coro=<main() running at <ipython-input-12-085dd37404eb>:1>>,\n",
       " <Task pending name='Test_W' coro=<Widget._start() running at <ipython-input-2-bb417bdccfbd>:65> wait_for=<Future pending cb=[<TaskWakeupMethWrapper object at 0xf3bde880>()]>>,\n",
       " <Task pending name='Time_W' coro=<Widget._start() running at <ipython-input-2-bb417bdccfbd>:60>>,\n",
       " <Task pending name='Time_W' coro=<Widget._start() running at <ipython-input-2-bb417bdccfbd>:60>>}"
      ]
     },
     "execution_count": 15,
     "metadata": {},
     "output_type": "execute_result"
    }
   ],
   "source": [
    "asyncio.all_tasks()"
   ]
  },
  {
   "cell_type": "code",
   "execution_count": null,
   "metadata": {},
   "outputs": [],
   "source": []
  },
  {
   "cell_type": "code",
   "execution_count": 16,
   "metadata": {},
   "outputs": [
    {
     "data": {
      "image/png": "[encoded data removed]",
      "text/plain": [
       "<PIL.Image.Image image mode=RGB size=256x64 at 0xF3BEDBE0>"
      ]
     },
     "execution_count": 16,
     "metadata": {},
     "output_type": "execute_result"
    }
   ],
   "source": [
    "tablo.image"
   ]
  },
  {
   "cell_type": "code",
   "execution_count": null,
   "metadata": {},
   "outputs": [],
   "source": []
  }
 ],
 "metadata": {
  "kernelspec": {
   "display_name": "Python 3",
   "language": "python",
   "name": "python3"
  },
  "language_info": {
   "codemirror_mode": {
    "name": "ipython",
    "version": 3
   },
   "file_extension": ".py",
   "mimetype": "text/x-python",
   "name": "python",
   "nbconvert_exporter": "python",
   "pygments_lexer": "ipython3",
   "version": "3.9.5"
  }
 },
 "nbformat": 4,
 "nbformat_minor": 4
}
