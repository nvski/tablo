{
 "cells": [
  {
   "cell_type": "code",
   "execution_count": 1,
   "metadata": {},
   "outputs": [],
   "source": [
    "import time\n",
    "import asyncio\n",
    "\n",
    "import math\n",
    "import numpy as np\n",
    "\n",
    "from PIL import Image, ImageDraw, ImageFont\n",
    "\n",
    "from rgbmatrix import RGBMatrix, RGBMatrixOptions\n",
    "\n",
    "import apds9930\n",
    "apds9930.APDS9930_IDs = [0x29, 0x39]\n",
    "sensor = apds9930.APDS9930(1)"
   ]
  },
  {
   "cell_type": "code",
   "execution_count": 2,
   "metadata": {},
   "outputs": [],
   "source": [
    "BRIGHTNESS = 50\n",
    "class Tablo:\n",
    "    \n",
    "    def __init__(self, brightness = BRIGHTNESS, widgets = []):\n",
    "        options = RGBMatrixOptions()\n",
    "        options.drop_privileges = False\n",
    "        options.rows = 64\n",
    "        options.cols = 128\n",
    "        options.chain_length = 2\n",
    "        options.led_rgb_sequence = 'RBG'\n",
    "        options.panel_type = 'FM6126A'\n",
    "        options.hardware_mapping = 'regular'\n",
    "        options.gpio_slowdown = 2\n",
    "        options.pwm_bits = 11\n",
    "        options.pwm_dither_bits = 2\n",
    "        options.pwm_lsb_nanoseconds = 50\n",
    "        \n",
    "        self.matrix = RGBMatrix(options = options)\n",
    "        self.matrix.brightness = brightness\n",
    "        self.image = Image.new('RGB', (256,64), 'black')\n",
    "        self.widgets = [w.start() for w in widgets]\n",
    "        \n",
    "    def update(self, brightness = None):\n",
    "        if brightness is not None:\n",
    "            self.matrix.brightness = brightness\n",
    "        self.matrix.SetImage(self.image)\n",
    "    def clear(self):\n",
    "        self.image = Image.new('RGB', (256,64), 'black')\n",
    "        self.update()\n",
    "        \n",
    "\n",
    "\n",
    "class Widget():\n",
    "    created_list=[] #makes Widgets unable to delete, but makes Widget.stop_all() work\n",
    "    def stop_all():\n",
    "        for w in Widget.created_list:\n",
    "            if w.task:\n",
    "                w.stop()\n",
    "    def __init__(self, size, position = (0,0)):\n",
    "        Widget.created_list.append(self)\n",
    "        self.w, self.h = self.size = size\n",
    "        self.x, self.y = self.position = position\n",
    "        self._running=False\n",
    "        self.task=None\n",
    "        \n",
    "        self.image = Image.new(\"RGB\", self.size, '#000000')\n",
    "        self.draw = ImageDraw.Draw(self.image)\n",
    "        \n",
    "    def clear(self):\n",
    "        self.draw.rectangle((0,0)+self.size, fill = '#000000')\n",
    "        #self.place()\n",
    "    def place(self):\n",
    "        tablo.image.paste(self.image, box=self.position)\n",
    "        tablo.update()\n",
    "    def update_frame(self):\n",
    "        pass\n",
    "        #to be defined in subclasses individually\n",
    "    async def _start(self, rr = 5):\n",
    "        self._running = True\n",
    "        self.update_frame()\n",
    "        while self._running:\n",
    "            self.place()\n",
    "            await asyncio.sleep(rr - time.time() % rr)\n",
    "            self.update_frame()\n",
    "    def start(self, *args, **kwargs):\n",
    "        assert(not self._running)\n",
    "        self.task = asyncio.create_task(self._start(*args, **kwargs))\n",
    "        self.task.name = type(self)\n",
    "        return self\n",
    "    def stop(self):\n",
    "        self._running = False\n",
    "        self.task.cancel()        \n",
    "        \n",
    "        \n",
    "try:\n",
    "    del(tablo)\n",
    "    Widget.stop_all()\n",
    "except:\n",
    "    pass\n",
    "tablo = Tablo()"
   ]
  },
  {
   "cell_type": "code",
   "execution_count": 3,
   "metadata": {},
   "outputs": [],
   "source": [
    "try:\n",
    "    del(tablo)\n",
    "    Widget.stop_all()\n",
    "except:\n",
    "    pass\n",
    "\n",
    "# time.sleep(5)\n",
    "\n",
    "tablo = Tablo(brightness=20)\n",
    "\n",
    "tablo.matrix.SetImage(\n",
    "      Image.new('RGB', (256,64),'#ffffff'), 0,0\n",
    "      )\n",
    "\n",
    "tablo.matrix.SetImage(\n",
    "      Image.new('RGB', (64,64),'#000000'), 128,32\n",
    "      )\n",
    "\n",
    "# tablo.matrix.SetImage(\n",
    "#       Image.new('RGB', (64,64),'#ffffff'), 64*3,0\n",
    "# )"
   ]
  },
  {
   "cell_type": "code",
   "execution_count": 4,
   "metadata": {},
   "outputs": [
    {
     "data": {
      "text/plain": [
       "<Task pending coro=<run_test() running at <ipython-input-4-d42636c0eff8>:13>>"
      ]
     },
     "execution_count": 4,
     "metadata": {},
     "output_type": "execute_result"
    }
   ],
   "source": [
    "class Test_W(Widget):\n",
    "    colors = [\"yellow\" ,\"red\", \"green\", \"blue\", \"white\"]\n",
    "    def __init__(self, *args, **kwargs):\n",
    "        super().__init__(*args, **kwargs)\n",
    "        self.n = 0\n",
    "    def update_frame(self):\n",
    "        y = self.n % self.h\n",
    "        color = self.colors[self.n//self.h]\n",
    "        self.draw.line((0, y,self.w, y), fill=color)\n",
    "        self.n += 1\n",
    "        self.n %= 64*len(self.colors)\n",
    "\n",
    "async def run_test():\n",
    "    example = Test_W((256, 64))\n",
    "    example.start(rr=0.001)\n",
    "    await asyncio.sleep(3)\n",
    "    example.stop()\n",
    "    tablo.clear()\n",
    "asyncio.create_task(run_test())"
   ]
  },
  {
   "cell_type": "code",
   "execution_count": 5,
   "metadata": {},
   "outputs": [],
   "source": [
    "DEFAULT_FONT = '/home/pi/Hack-Regular.ttf'\n",
    "class Time_W(Widget):\n",
    "    def __init__(self, *args,\n",
    "                 timezone=+3, t_format=\"%p %I:%M:%S\",\n",
    "                 font_name=DEFAULT_FONT, font_color=\"#ffffff\",\n",
    "                 **kwargs):\n",
    "        super().__init__(*args, **kwargs)\n",
    "        self.timezone = timezone\n",
    "        self.t_format = t_format\n",
    "        self.font_obj = ImageFont.truetype(font_name, self.h)\n",
    "        self.font_color = font_color\n",
    "    def update_frame(self):\n",
    "        self.clear()\n",
    "        t = time.time() + 3600*self.timezone\n",
    "        t = time.gmtime(t)\n",
    "        t_str = time.strftime(self.t_format, t)\n",
    "        self.draw.multiline_text((0,0), t_str, fill=self.font_color, font=self.font_obj)"
   ]
  },
  {
   "cell_type": "code",
   "execution_count": 6,
   "metadata": {},
   "outputs": [],
   "source": [
    "class Time_Arrows_W(Widget):\n",
    "    def __init__(self, *args, timezone=+3, **kwargs):\n",
    "        super().__init__(*args, **kwargs)\n",
    "        self.timezone = timezone\n",
    "    def update_frame(self):\n",
    "        self.clear()\n",
    "        t = time.time()\n",
    "        r = min(self.w, self.h)/2\n",
    "        for i in range(12):\n",
    "            x1 = r + r*math.cos(math.pi*i/6)\n",
    "            y1 = r + r*math.sin(math.pi*i/6)\n",
    "            x2 = r + 0.93*r*math.cos(math.pi*i/6)\n",
    "            y2 = r + 0.93*r*math.sin(math.pi*i/6)\n",
    "            fill=\"#ffffff\" if i%3==0 else \"#990000\"\n",
    "            self.draw.line((x1,y1,x2,y2), fill=fill)\n",
    "        \n",
    "        hx =   0.6*r*math.sin(math.pi*( (t/3600)%24+self.timezone )/6)\n",
    "        hy = - 0.6*r*math.cos(math.pi*( (t/3600)%24+self.timezone )/6)\n",
    "        self.draw.line((r,r,r+hx,r+hy), fill=\"#ffffff\")\n",
    "        \n",
    "        mx =   0.9*r*math.sin(math.pi*( (t/60)%60 )/30)\n",
    "        my = - 0.9*r*math.cos(math.pi*( (t/60)%60 )/30)\n",
    "        self.draw.line((r,r,r+mx,r+my), fill=\"#ffffff\")\n",
    "        \n",
    "        sx =   r*math.sin(math.pi*(t%60)/30)\n",
    "        sy = - r*math.cos(math.pi*(t%60)/30)\n",
    "        self.draw.line((r+sx,r+sy,r+0.95*sx,r+0.95*sy), fill=\"#ffffff\")"
   ]
  },
  {
   "cell_type": "code",
   "execution_count": 7,
   "metadata": {},
   "outputs": [],
   "source": [
    "class Weather_W(Widget):\n",
    "    def __init__(self, *args,\n",
    "                 location=+3, w_format=\"\",\n",
    "                 font_name=DEFAULT_FONT, font_color=\"#ffffff\",\n",
    "                 **kwargs):\n",
    "        super().__init__(*args, **kwargs)\n",
    "        self.location = location\n",
    "        self.w_format = w_format\n",
    "        self.font_obj = ImageFont.truetype(font_name, self.h)\n",
    "        self.font_color = font_color\n",
    "    def update_frame(self):\n",
    "        self.clear()\n",
    "        \n",
    "        #w = \n",
    "        t_str = time.strftime(self.t_format, t)\n",
    "        self.draw.text((0,0), t_str, fill=self.font_color, font=self.font_obj)"
   ]
  },
  {
   "cell_type": "code",
   "execution_count": 8,
   "metadata": {},
   "outputs": [],
   "source": [
    "Widget.stop_all()\n",
    "tablo.clear()\n",
    "hight=18\n",
    "#time_bashk = Time_W(256, hight, timezone=+5, t_format=\"%I:%M %p  %d/%m/%y\")\n",
    "time_msk   = Time_W((256, hight), timezone=+3, t_format=\"%p %I:%M:%S\", font_color='#ffffff')\n",
    "date_msk   = Time_W((256, hight), (0,hight), timezone=+3, t_format=\"%a %d/%m\", font_color='#ffffff')\n",
    "\n",
    "#time_cdt   = Time_W((1602*, hight), (0, hight*2), timezone=-5, t_format=\"%I:%M %p  CDT\", font_color='#eeeeee')\n",
    "\n",
    "#time_bashk.start(rr = 1)\n",
    "time_msk.start(rr = 1)\n",
    "date_msk.start(rr = 5)\n",
    "#time_cdt.start(rr = 1)\n",
    "\n",
    "analog=Time_Arrows_W((50,50), (144,0), timezone = +5)\n",
    "#analog.start(refresh_rate = 1)"
   ]
  },
  {
   "cell_type": "code",
   "execution_count": 10,
   "metadata": {},
   "outputs": [],
   "source": [
    "class BrightnessScheduler():\n",
    "    def __init__(self):\n",
    "        self.task = None\n",
    "        self.history = np.zeros((20,))\n",
    "    async def _start(self):       \n",
    "        pass       #тут мозги\n",
    "    def start(self):\n",
    "        self.task = asyncio.create_task"
   ]
  },
  {
   "cell_type": "code",
   "execution_count": 11,
   "metadata": {},
   "outputs": [
    {
     "name": "stdout",
     "output_type": "stream",
     "text": [
      "134.17, 0.00\r"
     ]
    }
   ],
   "source": [
    "sensor = apds9930.APDS9930(1)\n",
    "sensor.set_mode(apds9930.ALL, True)\n",
    "for i in range(30):\n",
    "    time.sleep(.33)\n",
    "    print('%.2f, %.2f' % (sensor.ambient_light, sensor.proximity), sep='', end='\\r')"
   ]
  },
  {
   "cell_type": "code",
   "execution_count": 12,
   "metadata": {},
   "outputs": [],
   "source": [
    "tablo.update(100)\n",
    "async def f():\n",
    "    while time.localtime() < time.strptime('Sat Mar 13 9:00:00 2021'):\n",
    "        await asyncio.sleep(1)\n",
    "    tablo.update(45)\n",
    "    \n",
    "    while time.localtime() < time.strptime('Sat Mar 13 19:00:00 2021'):\n",
    "        await asyncio.sleep(1)\n",
    "    tablo.update(30)\n",
    "    \n",
    "    while time.localtime() < time.strptime('Sat Mar 13 22:00:00 2021'):\n",
    "        await asyncio.sleep(1)\n",
    "    tablo.update(10)\n",
    "    \n",
    "    \n",
    "    while time.localtime() < time.strptime('Sun Mar 14 00:20:00 2021'):\n",
    "        await asyncio.sleep(1)\n",
    "    tablo.update(3)\n",
    "    \n",
    "task2 = asyncio.create_task(f())"
   ]
  },
  {
   "cell_type": "code",
   "execution_count": 13,
   "metadata": {},
   "outputs": [],
   "source": [
    "def change_brightness(b: int) -> None:\n",
    "    assert 1<=b<=100, \"Ну от 1 до 100 просил же!\"\n",
    "    assert type(b) is int, \"Ну просил же целое число!\"\n",
    "\n",
    "    tablo.update(b)"
   ]
  },
  {
   "cell_type": "code",
   "execution_count": 73,
   "metadata": {},
   "outputs": [],
   "source": [
    "change_brightness(3)"
   ]
  }
 ],
 "metadata": {
  "kernelspec": {
   "display_name": "Python 3",
   "language": "python",
   "name": "python3"
  },
  "language_info": {
   "codemirror_mode": {
    "name": "ipython",
    "version": 3
   },
   "file_extension": ".py",
   "mimetype": "text/x-python",
   "name": "python",
   "nbconvert_exporter": "python",
   "pygments_lexer": "ipython3",
   "version": "3.7.3"
  }
 },
 "nbformat": 4,
 "nbformat_minor": 4
}
