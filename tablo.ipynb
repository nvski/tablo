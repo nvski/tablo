{
 "cells": [
  {
   "cell_type": "code",
   "execution_count": 1,
   "metadata": {
    "scrolled": true
   },
   "outputs": [],
   "source": [
    "import asyncio\n",
    "import logging\n",
    "import math\n",
    "import time\n",
    "import typing as tp\n",
    "from functools import singledispatch\n",
    "from datetime import datetime\n",
    "\n",
    "import apds9930\n",
    "# import numpy as np\n",
    "# from pyowm.owm import OWM\n",
    "from PIL import Image, ImageDraw, ImageFont\n",
    "import apds9930\n",
    "from rgbmatrix import RGBMatrix, RGBMatrixOptions\n",
    "\n",
    "\n",
    "apds9930.APDS9930_IDs = [0x29, 0x39]"
   ]
  },
  {
   "cell_type": "code",
   "execution_count": 2,
   "metadata": {},
   "outputs": [],
   "source": [
    "class Tablo:\n",
    "    def __init__(self, brightness: int = 30) -> None:\n",
    "        options = RGBMatrixOptions()\n",
    "        options.drop_privileges = False\n",
    "        options.rows = 64\n",
    "        options.cols = 128\n",
    "        options.chain_length = 1\n",
    "        options.led_rgb_sequence = 'RBG'\n",
    "        options.panel_type = 'FM6126A'\n",
    "        options.hardware_mapping = 'regular'\n",
    "        options.gpio_slowdown = 4\n",
    "        options.pwm_bits = 8\n",
    "        options.pwm_dither_bits = 2\n",
    "        options.pwm_lsb_nanoseconds = 1000\n",
    "\n",
    "        self.image = Image.new('RGB', (128,64), 'black')\n",
    "\n",
    "        self.matrix = None\n",
    "        self.options = options\n",
    "        self.start_matrix(options, brightness)\n",
    "    \n",
    "    def start_matrix(self, options = None, brightness = 30):\n",
    "        if options is None: options = self.options\n",
    "        if self.matrix is not None:\n",
    "            del self.matrix\n",
    "#             time.sleep(.5)\n",
    "        self.matrix = RGBMatrix(options = options)\n",
    "        self.matrix.brightness = brightness\n",
    "        self.update()\n",
    "\n",
    "\n",
    "    def update(self, brightness: tp.Optional[int] = None) -> None:\n",
    "        if brightness is not None:\n",
    "            self.matrix.brightness = brightness\n",
    "        self.matrix.SetImage(self.image)\n",
    "\n",
    "    def clear(self) -> None:\n",
    "        self.image = Image.new('RGB', (128,64), 'black')\n",
    "        self.update()\n",
    "        \n",
    "\n",
    "Widget = tp.TypeVar('Widget')\n",
    "\n",
    "class Widget:\n",
    "    running_set: tp.Set[Widget] = set()\n",
    "\n",
    "    @staticmethod\n",
    "    def stop_all():\n",
    "        for w in Widget.running_set.copy():\n",
    "            w.stop()\n",
    "\n",
    "    def __init__(self, size: tp.Tuple[int, int], position = (0,0)) -> None:\n",
    "        self.w, self.h = self.size = size\n",
    "        self.x, self.y = self.position = position\n",
    "        self.task: tp.Optional[asyncio.Task] = None\n",
    "        \n",
    "        self.image = Image.new(\"RGB\", self.size, '#000000')\n",
    "        self.draw = ImageDraw.Draw(self.image)\n",
    "\n",
    "    def clear(self) -> None:\n",
    "        self.draw.rectangle((0,0)+self.size, fill='#000000')\n",
    "        #self.place()\n",
    "\n",
    "    def _place(self) -> None:\n",
    "        tablo.image.paste(self.image, box=self.position)\n",
    "        tablo.update()\n",
    "\n",
    "    def update_frame(self):\n",
    "        pass\n",
    "        #to be defined in subclasses individually\n",
    "\n",
    "    async def _start(self, rr: float) -> None:\n",
    "        Widget.running_set.add(self)\n",
    "        while self in Widget.running_set:\n",
    "            self.update_frame()\n",
    "            self._place()\n",
    "            await asyncio.sleep(rr - time.time() % rr)\n",
    "\n",
    "    def start(self, rr: float=5) -> Widget:\n",
    "        if self in Widget.running_set:\n",
    "            raise Warning(\"Trying to start smth already running. Nothing is done.\")\n",
    "            return\n",
    "        self.task = asyncio.create_task(self._start(rr),\n",
    "                                        name=str(self.__class__.__name__)\n",
    "                                        )\n",
    "        return self\n",
    "\n",
    "    def stop(self) -> None:\n",
    "        Widget.running_set -= {self}\n",
    "        # asyncio.wait_for(asyncio.wait(self.task), timeout=1)"
   ]
  },
  {
   "cell_type": "code",
   "execution_count": 3,
   "metadata": {},
   "outputs": [],
   "source": [
    "\n",
    "try:\n",
    "    del(tablo)\n",
    "    Widget.stop_all()\n",
    "    time.sleep(1)\n",
    "except Exception:\n",
    "    pass\n",
    "tablo = Tablo(100)"
   ]
  },
  {
   "cell_type": "code",
   "execution_count": 4,
   "metadata": {},
   "outputs": [
    {
     "data": {
      "text/plain": [
       "[]"
      ]
     },
     "execution_count": 4,
     "metadata": {},
     "output_type": "execute_result"
    }
   ],
   "source": [
    "[t.cancel() for t in asyncio.all_tasks()]"
   ]
  },
  {
   "cell_type": "code",
   "execution_count": 10,
   "metadata": {},
   "outputs": [],
   "source": [
    "Widget.stop_all()\n",
    "tablo.clear()"
   ]
  },
  {
   "cell_type": "code",
   "execution_count": 27,
   "metadata": {},
   "outputs": [
    {
     "data": {
      "text/plain": [
       "{<Task pending name='Task-1' coro=<run_test() running at <ipython-input-6-0821fe03b7ea>:18> wait_for=<Future pending cb=[<TaskWakeupMethWrapper object at 0xf45a1358>()]>>,\n",
       " <Task pending name='Task-17' coro=<run_test() running at <ipython-input-27-22154341c9cf>:15>>,\n",
       " <Task pending name='Task-3' coro=<run_test() running at <ipython-input-7-22154341c9cf>:18> wait_for=<Future pending cb=[<TaskWakeupMethWrapper object at 0xf45a1ef8>()]>>}"
      ]
     },
     "execution_count": 27,
     "metadata": {},
     "output_type": "execute_result"
    }
   ],
   "source": [
    "class Test_W(Widget):\n",
    "    colors = [\"yellow\" ,\"red\", \"green\", \"blue\", \"white\"]\n",
    "\n",
    "    def __init__(self, *args):\n",
    "        super().__init__(*args)\n",
    "        self.n = 0\n",
    "\n",
    "    def update_frame(self):\n",
    "        y = self.n % self.h\n",
    "        color = self.colors[self.n//self.h]\n",
    "        self.draw.line((0, y,self.w, y), fill=color)\n",
    "        self.n += 1\n",
    "        self.n %= self.h*len(self.colors)\n",
    "\n",
    "async def run_test():\n",
    "    example = Test_W((128, 64),(0,0))\n",
    "    example.start(rr=0.02)\n",
    "    await asyncio.sleep(3600*10)\n",
    "    example.stop()\n",
    "    tablo.clear()\n",
    "    \n",
    "asyncio.create_task(run_test())\n",
    "asyncio.all_tasks()"
   ]
  },
  {
   "cell_type": "code",
   "execution_count": 28,
   "metadata": {},
   "outputs": [],
   "source": [
    "tablo.update(10)"
   ]
  },
  {
   "cell_type": "code",
   "execution_count": 29,
   "metadata": {},
   "outputs": [],
   "source": [
    "DEFAULT_FONT = '/home/pi/Hack-Regular.ttf'\n",
    "\n",
    "class Time_W(Widget):\n",
    "    def __init__(self, *args,\n",
    "                 timezone: int=+3, t_format: str=\"%p %I:%M:%S\",\n",
    "                 font_name: str=DEFAULT_FONT, font_color=\"#ffffff\"\n",
    "                 ) -> None:\n",
    "        super().__init__(*args)\n",
    "        self.timezone = timezone\n",
    "        self.t_format = t_format\n",
    "        self.font_obj = ImageFont.truetype(font_name, self.h)\n",
    "        self.font_color = font_color\n",
    "    def update_frame(self) -> None:\n",
    "        self.clear()\n",
    "        t = time.time() + 3600*self.timezone\n",
    "        t = time.gmtime(t)\n",
    "        t_str = time.strftime(self.t_format, t)\n",
    "        self.draw.multiline_text((0,0), t_str, fill=self.font_color, font=self.font_obj)"
   ]
  },
  {
   "cell_type": "code",
   "execution_count": 30,
   "metadata": {},
   "outputs": [],
   "source": [
    "class Time_Arrows_W(Widget):\n",
    "    def __init__(self, *args, timezone: int=+3) -> None:\n",
    "        super().__init__(*args)\n",
    "        self.timezone = timezone\n",
    "\n",
    "    def update_frame(self) -> None:\n",
    "        self.clear()\n",
    "        t = time.time()\n",
    "        r = min(self.w, self.h)/2\n",
    "        for i in range(12):\n",
    "            x1 = r + r*math.cos(math.pi*i/6)\n",
    "            y1 = r + r*math.sin(math.pi*i/6)\n",
    "            x2 = r + 0.93*r*math.cos(math.pi*i/6)\n",
    "            y2 = r + 0.93*r*math.sin(math.pi*i/6)\n",
    "            fill=\"#ffffff\" if i%3==0 else \"#990000\"\n",
    "            self.draw.line((x1,y1,x2,y2), fill=fill)\n",
    "        \n",
    "        hx =   0.6*r*math.sin(math.pi*( (t/3600)%24+self.timezone )/6)\n",
    "        hy = - 0.6*r*math.cos(math.pi*( (t/3600)%24+self.timezone )/6)\n",
    "        self.draw.line((r,r,r+hx,r+hy), fill=\"#ffffff\")\n",
    "        \n",
    "        mx =   0.9*r*math.sin(math.pi*( (t/60)%60 )/30)\n",
    "        my = - 0.9*r*math.cos(math.pi*( (t/60)%60 )/30)\n",
    "        self.draw.line((r,r,r+mx,r+my), fill=\"#ffffff\")\n",
    "        \n",
    "        sx =   r*math.sin(math.pi*(t%60)/30)\n",
    "        sy = - r*math.cos(math.pi*(t%60)/30)\n",
    "        self.draw.line((r+sx,r+sy,r+0.95*sx,r+0.95*sy), fill=\"#ffffff\")"
   ]
  },
  {
   "cell_type": "code",
   "execution_count": 31,
   "metadata": {},
   "outputs": [],
   "source": [
    "class BrightnessScheduler():\n",
    "    def _init_sensor(self):\n",
    "        self.sensor = apds9930.APDS9930(1)\n",
    "        self.sensor.set_mode(apds9930.ALL, True)\n",
    "\n",
    "    def __init__(self):\n",
    "        self.task = None\n",
    "        # self.history = np.zeros((20,))\n",
    "        self.current_brightness = None\n",
    "        self._running = False\n",
    "        self._init_sensor()\n",
    "\n",
    "    def count_brightness(self, light):\n",
    "        if light < 0:\n",
    "            light = 1500\n",
    "        brightness = 1.25*light**.65\n",
    "        brightness = round(brightness)\n",
    "        brightness = min(100, brightness)\n",
    "        brightness = max(3, brightness)\n",
    "        return brightness\n",
    "\n",
    "    async def _start(self, rr = .1):       \n",
    "        while self._running:\n",
    "            try:\n",
    "                new_brightness = self.count_brightness(self.sensor.ambient_light)\n",
    "                if self.current_brightness != new_brightness:\n",
    "                    self.current_brightness = new_brightness\n",
    "                    tablo.update(new_brightness)\n",
    "            except:\n",
    "                try: self._init_sensor()\n",
    "                except: pass\n",
    "            await asyncio.sleep(rr)\n",
    "    def start(self, *args, **kwargs):\n",
    "        self._running = True\n",
    "        self.task = asyncio.create_task(self._start(*args, **kwargs))\n",
    "        return self\n",
    "    def stop(self):\n",
    "        self._running = False\n",
    "        \n",
    "try:\n",
    "    bs.stop()\n",
    "except Exception:\n",
    "    pass\n",
    "\n",
    "# bs = BrightnessScheduler()\n",
    "# bs.start(rr=.05)"
   ]
  },
  {
   "cell_type": "code",
   "execution_count": 32,
   "metadata": {},
   "outputs": [],
   "source": [
    "class AmbientSensor_W(Widget):\n",
    "    def __init__(self, size, position=(0,0), sensor=None,\n",
    "                 font_name=DEFAULT_FONT, font_color='#808080', err_color=\"#F03030\"):\n",
    "        \n",
    "        super().__init__(size=size, position=position)\n",
    "        self.sensor = sensor if sensor is not None else bs.sensor\n",
    "        self.font_obj = ImageFont.truetype(font_name, self.h)\n",
    "        self.font_color = font_color\n",
    "        self.err_color = err_color\n",
    "    def update_frame(self):\n",
    "        self.clear()\n",
    "        light_str = f\" {tablo.matrix.brightness}\"\n",
    "        try:\n",
    "            light_str = f\"{round(self.sensor.ambient_light)}\" + light_str\n",
    "            color = self.font_color\n",
    "        except:\n",
    "            light_str = f\"Err\" + light_str\n",
    "            color = self.err_color\n",
    "        self.draw.multiline_text(\n",
    "            (0,0), light_str,\n",
    "            fill=color, font=self.font_obj)"
   ]
  },
  {
   "cell_type": "code",
   "execution_count": 41,
   "metadata": {},
   "outputs": [
    {
     "data": {
      "text/plain": [
       "<__main__.Time_W at 0xf1fd7b68>"
      ]
     },
     "execution_count": 41,
     "metadata": {},
     "output_type": "execute_result"
    }
   ],
   "source": [
    "Widget.stop_all()\n",
    "tablo.clear()\n",
    "\n",
    "# bs = BrightnessScheduler()\n",
    "# bs.start(rr=.05)\n",
    "\n",
    "time_msk   = Time_W((128, 18), t_format=\"%p %I:%M:%S\", font_color='#ffffff')\n",
    "date_msk   = Time_W((128, 18), (0,18), t_format=\"%a %d/%m\", font_color='#ffffff')\n",
    "# amb = AmbientSensor_W(size=(50,11), position=(206,0))\n",
    "\n",
    "time_msk.start(rr=1)\n",
    "date_msk.start(rr=5)\n",
    "# amb.start(rr=0.2)"
   ]
  },
  {
   "cell_type": "code",
   "execution_count": 42,
   "metadata": {},
   "outputs": [],
   "source": [
    "Widget.stop_all()"
   ]
  },
  {
   "cell_type": "code",
   "execution_count": 44,
   "metadata": {},
   "outputs": [],
   "source": [
    "def main():\n",
    "    Widget.stop_all()\n",
    "    tablo.clear()\n",
    "\n",
    "    time_HHMM   = Time_W((89, 29), (7, -2), t_format=\"%H:%M\", font_color='#ffffff')\n",
    "    time_SS = Time_W((20,16), (96, 0), t_format=\"%S\", font_color='#ffffff')\n",
    "    date_   = Time_W((120, 17), (2, 27), t_format=\"%a %d/%m/%y\", font_color='#999999')\n",
    "#     amb = AmbientSensor_W(size=(50, 11), position=(206,0))\n",
    "\n",
    "    time_HHMM.start(rr=1)\n",
    "    time_SS.start(rr=1)\n",
    "    date_.start(rr=1)\n",
    "#     amb.start(rr=.2)\n",
    "    \n",
    "main()"
   ]
  },
  {
   "cell_type": "code",
   "execution_count": 45,
   "metadata": {},
   "outputs": [
    {
     "data": {
      "image/png": "[encoded data removed]",
      "text/plain": [
       "<PIL.Image.Image image mode=RGB size=128x64 at 0xF15186A0>"
      ]
     },
     "execution_count": 45,
     "metadata": {},
     "output_type": "execute_result"
    }
   ],
   "source": [
    "tablo.image"
   ]
  },
  {
   "cell_type": "code",
   "execution_count": 57,
   "metadata": {},
   "outputs": [],
   "source": [
    "Widget.stop_all()\n",
    "main()\n",
    "tablo.update(12)"
   ]
  },
  {
   "cell_type": "code",
   "execution_count": 53,
   "metadata": {},
   "outputs": [],
   "source": [
    "tablo.options.gpio_slowdown = 3\n",
    "tablo.start_matrix(brightness=10)"
   ]
  },
  {
   "cell_type": "code",
   "execution_count": 21,
   "metadata": {},
   "outputs": [
    {
     "data": {
      "text/plain": [
       "<__main__.Test_W at 0xf1fd7c70>"
      ]
     },
     "execution_count": 21,
     "metadata": {},
     "output_type": "execute_result"
    }
   ],
   "source": [
    "tw = Test_W((256,64))\n",
    "tw.start(rr=0.004)"
   ]
  },
  {
   "cell_type": "code",
   "execution_count": 21,
   "metadata": {},
   "outputs": [],
   "source": [
    "import aiohttp  #instead requests\n",
    "import json\n",
    "\n",
    "\n",
    "class OWM_Weater_W(Widget):\n",
    "    one_call_api = 'http://api.openweathermap.org/data/2.5/onecall'\n",
    "    default_args = {\n",
    "        \"lang\": \"ru\",\n",
    "        \"lat\": \"55.927305\",\n",
    "        \"lon\": \"37.523576\"\n",
    "    }\n",
    "    \n",
    "    def __init__(self, size: tp.Tuple[int, int], position = (0,0)):\n",
    "        super().__init__(size, position)\n",
    "        with open(\"owm.key\") as file:\n",
    "            token = file.readline().rstrip()\n",
    "        self.args = {\"appid\": token} | OWM_Weater_W.default_args\n",
    "        self.data: tp.Dict[str, tp.Any] = self.update_data(True)\n",
    "        self.font_obj = ImageFont.truetype(font_name, self.h)\n",
    "        self.font_color = font_color\n",
    "\n",
    "    def update_data(self, force=False) -> tp.Dict[str, tp.Any]:\n",
    "        if force or self.data[\"dt\"] > datetime.now() + 5*60:\n",
    "            responce = requests.get(OWM_Weater_W.one_call_api+'?'+'&'.join(k+'='+v for k,v in self.args.itemsms()))\n",
    "            self.data = json.load(responce.content)\n",
    "        return self.data\n",
    "        \n",
    "    def update_frame(self) -> None:\n",
    "        self.clear()\n",
    "        weater = self.update_data()\n",
    "        w_str = weather[\"current\"][\"temp\"]\n",
    "        self.draw.multiline_text((0,0), w_str, fill=self.font_color, font=self.font_obj)"
   ]
  },
  {
   "cell_type": "code",
   "execution_count": 138,
   "metadata": {},
   "outputs": [
    {
     "data": {
      "text/plain": [
       "{<Task pending name='Time_W' coro=<Widget._start() running at <ipython-input-2-68ec3501bdfe>:75> wait_for=<Future pending cb=[<TaskWakeupMethWrapper object at 0xf0bcbe80>()]>>,\n",
       " <Task pending name='Time_W' coro=<Widget._start() running at <ipython-input-2-68ec3501bdfe>:75> wait_for=<Future pending cb=[<TaskWakeupMethWrapper object at 0xf0bcbf40>()]>>,\n",
       " <Task pending name='Time_W' coro=<Widget._start() running at <ipython-input-2-68ec3501bdfe>:75> wait_for=<Future pending cb=[<TaskWakeupMethWrapper object at 0xf453e730>()]>>}"
      ]
     },
     "execution_count": 138,
     "metadata": {},
     "output_type": "execute_result"
    }
   ],
   "source": [
    "asyncio.all_tasks()"
   ]
  },
  {
   "cell_type": "code",
   "execution_count": 145,
   "metadata": {},
   "outputs": [
    {
     "data": {
      "text/plain": [
       "<Task pending name='Time_W' coro=<Widget._start() running at <ipython-input-2-68ec3501bdfe>:75> wait_for=<Future pending cb=[<TaskWakeupMethWrapper object at 0xf0bcb6b8>()]>>"
      ]
     },
     "execution_count": 145,
     "metadata": {},
     "output_type": "execute_result"
    }
   ],
   "source": [
    "next(t for t in asyncio.all_tasks() if t.get_name() == 'Time_W')"
   ]
  }
 ],
 "metadata": {
  "kernelspec": {
   "display_name": "Python 3",
   "language": "python",
   "name": "python3"
  },
  "language_info": {
   "codemirror_mode": {
    "name": "ipython",
    "version": 3
   },
   "file_extension": ".py",
   "mimetype": "text/x-python",
   "name": "python",
   "nbconvert_exporter": "python",
   "pygments_lexer": "ipython3",
   "version": "3.9.5"
  }
 },
 "nbformat": 4,
 "nbformat_minor": 4
}
