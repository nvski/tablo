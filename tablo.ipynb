{
 "cells": [
  {
   "cell_type": "code",
   "execution_count": 1,
   "metadata": {},
   "outputs": [],
   "source": [
    "#!/usr/bin/python3\n",
    "\n",
    "from PIL import Image, ImageDraw, ImageFont\n",
    "import time\n",
    "from rgbmatrix import RGBMatrix, RGBMatrixOptions\n",
    "import asyncio\n",
    "import math"
   ]
  },
  {
   "cell_type": "code",
   "execution_count": 2,
   "metadata": {
    "scrolled": true,
    "slideshow": {
     "slide_type": "-"
    }
   },
   "outputs": [
    {
     "name": "stdout",
     "output_type": "stream",
     "text": [
      "The history saving thread hit an unexpected error (OperationalError('attempt to write a readonly database')).History will not be written to the database.\n"
     ]
    }
   ],
   "source": [
    "# Configuration for the matrix\n",
    "\n",
    "options = RGBMatrixOptions()\n",
    "options.rows = 64\n",
    "options.cols = 128\n",
    "options.chain_length = 2\n",
    "options.led_rgb_sequence = 'RBG'\n",
    "options.panel_type = 'FM6126A'\n",
    "options.hardware_mapping = 'regular'\n",
    "options.gpio_slowdown = 1\n",
    "options.pwm_bits = 8\n",
    "options.pwm_dither_bits = 2\n",
    "options.pwm_lsb_nanoseconds = 50\n",
    "options.brightness = 30\n",
    "\n",
    "matrix = RGBMatrix(options = options)"
   ]
  },
  {
   "cell_type": "code",
   "execution_count": 3,
   "metadata": {},
   "outputs": [],
   "source": [
    "class Widget():\n",
    "    created_list=[] #makes Widgets umable to delete, but makes Widget.stop_all() work\n",
    "    def stop_all():\n",
    "        for w in Widget.created_list:\n",
    "            w.stop()\n",
    "    def running():\n",
    "        r=[]\n",
    "        for w in Widget.created_list:\n",
    "            if w._running: r.append(w)\n",
    "        return r\n",
    "    def __init__(self, wigth, height, background_color=\"black\"):\n",
    "        Widget.created_list.append(self)\n",
    "        self.size = (wigth, height)\n",
    "        self.w, self.h = self.size\n",
    "        self.background_color = background_color\n",
    "        self._running=False\n",
    "        \n",
    "        self.image = Image.new(\"RGB\", self.size, background_color)\n",
    "        self.draw = ImageDraw.Draw(self.image)\n",
    "        #here to create a draw tool, first frame, etc\n",
    "    def clear(self, color = None):\n",
    "        color = self.background_color if color == None else color \n",
    "        self.draw.rectangle((0,0)+self.size, fill = color)\n",
    "    def place_once(self, x, y):\n",
    "        matrix.SetImage(self.image, x, y)\n",
    "    def update_frame(self):\n",
    "        pass\n",
    "        #to be defined in subclasses individually\n",
    "    async def _start(self, x, y, refresh_rate = 5):\n",
    "        self._running = True\n",
    "        while self._running:\n",
    "            self.place_once(x, y)\n",
    "            rr=refresh_rate\n",
    "            await asyncio.sleep(rr - time.time() % rr)\n",
    "            self.update_frame()\n",
    "    def start(self, *args, **kwargs):\n",
    "        assert(not self._running)\n",
    "        #TODO assert(self.task.done())\n",
    "        #self.task should be finished as well\n",
    "        \n",
    "        # 1 widget object -> 1 widget copy on matrix\n",
    "        # self._start() still can be started manually, when you need it\n",
    "        self.task = asyncio.create_task(self._start(*args, **kwargs))\n",
    "    def stop(self):\n",
    "        self._running = False\n",
    "        #TODO wait for task to finish"
   ]
  },
  {
   "cell_type": "code",
   "execution_count": 4,
   "metadata": {},
   "outputs": [
    {
     "data": {
      "text/plain": [
       "'\\nexample = Test_W(256, 64)\\nexample.start(0,0, refresh_rate=0.01)\\nawait asyncio.sleep(30)\\nexample.stop()\\nmatrix.Clear()\\n'"
      ]
     },
     "execution_count": 4,
     "metadata": {},
     "output_type": "execute_result"
    }
   ],
   "source": [
    "class Test_W(Widget):\n",
    "    colors = [\"yellow\" ,\"red\", \"green\", \"blue\", \"white\"]\n",
    "    def __init__(self, *args, **kwargs):\n",
    "        super().__init__(*args, **kwargs)\n",
    "        self.n = 0\n",
    "    def update_frame(self):\n",
    "        y = self.n % self.h\n",
    "        color = self.colors[self.n//self.h]\n",
    "        self.draw.line((0, y,self.w, y), fill=color)\n",
    "        self.n += 1\n",
    "        self.n %= 64*len(self.colors)\n",
    "\n",
    "\"\"\"\n",
    "example = Test_W(256, 64)\n",
    "example.start(0,0, refresh_rate=0.01)\n",
    "await asyncio.sleep(30)\n",
    "example.stop()\n",
    "matrix.Clear()\n",
    "\"\"\""
   ]
  },
  {
   "cell_type": "code",
   "execution_count": 5,
   "metadata": {},
   "outputs": [],
   "source": [
    "DEFAUL_FONT = 'terminess.ttf'\n",
    "class Time_W(Widget):\n",
    "    def __init__(self, *args,\n",
    "                 timezone=+3, t_format=\"%p %I:%M:%S\",\n",
    "                 font_name=DEFAUL_FONT, font_color=\"#ffffff\",\n",
    "                 **kwargs):\n",
    "        super().__init__(*args, **kwargs)\n",
    "        self.timezone = timezone\n",
    "        self.t_format = t_format\n",
    "        self.font_obj = ImageFont.truetype(font_name, self.h)\n",
    "        self.font_color = font_color\n",
    "    def update_frame(self):\n",
    "        self.clear()\n",
    "        t = time.time() + 3600*self.timezone\n",
    "        t = time.gmtime(t)\n",
    "        t_str = time.strftime(self.t_format, t)\n",
    "        self.draw.text((0,0), t_str, fill=self.font_color, font=self.font_obj)\n",
    "        \n",
    "time_bashk = Time_W(128, 20, timezone=+5)\n",
    "time_msk   = Time_W(128, 20, timezone=+3, t_format=\"%p %I:%M MSK\")\n",
    "time_cdt   = Time_W(128, 20, timezone=-5, t_format=\"%p %I:%M CDT\")\n",
    "\n",
    "time_bashk.start(0, 0, refresh_rate = 1)\n",
    "time_msk.start(0, 20, refresh_rate = 1)\n",
    "time_cdt.start(0, 40, refresh_rate = 1)"
   ]
  },
  {
   "cell_type": "code",
   "execution_count": 17,
   "metadata": {},
   "outputs": [],
   "source": [
    "class Time_Arrows_W(Widget):\n",
    "    def __init__(self, *args, timezone=+3, **kwargs):\n",
    "        super().__init__(*args, **kwargs)\n",
    "        self.timezone = timezone\n",
    "    def update_frame(self):\n",
    "        self.clear()\n",
    "        t = time.time()\n",
    "        r = min(self.w, self.h)/2\n",
    "        for i in range(12):\n",
    "            x1 = r + r*math.cos(math.pi*i/6)\n",
    "            y1 = r + r*math.sin(math.pi*i/6)\n",
    "            x2 = r + 0.93*r*math.cos(math.pi*i/6)\n",
    "            y2 = r + 0.93*r*math.sin(math.pi*i/6)\n",
    "            fill=\"#ffffff\" if i%3==0 else \"#990000\"\n",
    "            self.draw.line((x1,y1,x2,y2), fill=fill)\n",
    "        \n",
    "        hx =   0.6*r*math.sin(math.pi*( (t/3600)%24+self.timezone )/6)\n",
    "        hy = - 0.6*r*math.cos(math.pi*( (t/3600)%24+self.timezone )/6)\n",
    "        self.draw.line((r,r,r+hx,r+hy), fill=\"#ffffff\")\n",
    "        \n",
    "        mx =   0.9*r*math.sin(math.pi*( (t/60)%60 )/30)\n",
    "        my = - 0.9*r*math.cos(math.pi*( (t/60)%60 )/30)\n",
    "        self.draw.line((r,r,r+mx,r+my), fill=\"#ffffff\")\n",
    "        \n",
    "        sx =   r*math.sin(math.pi*(t%60)/30)\n",
    "        sy = - r*math.cos(math.pi*(t%60)/30)\n",
    "        self.draw.line((r+sx,r+sy,r+0.95*sx,r+0.95*sy), fill=\"#ffffff\")\n",
    "\n",
    "analog=Time_Arrows_W(64,64,timezone = +5)\n",
    "analog.start(128, 0, refresh_rate = 1)"
   ]
  },
  {
   "cell_type": "code",
   "execution_count": 16,
   "metadata": {},
   "outputs": [
    {
     "name": "stdout",
     "output_type": "stream",
     "text": [
      "3, 1\n",
      "<Task pending coro=<Widget._start() running at <ipython-input-3-5f27790e4027>:34> wait_for=<Future pending cb=[<TaskWakeupMethWrapper object at 0xb30552f0>()]>>\n",
      "<Task pending coro=<Widget._start() running at <ipython-input-3-5f27790e4027>:34> wait_for=<Future pending cb=[<TaskWakeupMethWrapper object at 0xb3a81d10>()]>>\n",
      "<Task pending coro=<Widget._start() running at <ipython-input-3-5f27790e4027>:34> wait_for=<Future pending cb=[<TaskWakeupMethWrapper object at 0xb5f4d690>()]>>\n"
     ]
    }
   ],
   "source": [
    "a,b=0,0\n",
    "for task in asyncio.Task.all_tasks():\n",
    "    if task.done(): b+=1\n",
    "    else: a+=1\n",
    "print(f\"{a}, {b}\")\n",
    "for task in asyncio.Task.all_tasks():\n",
    "    if not task.done(): print(task)"
   ]
  },
  {
   "cell_type": "code",
   "execution_count": 15,
   "metadata": {},
   "outputs": [],
   "source": [
    "analog.stop()"
   ]
  },
  {
   "cell_type": "code",
   "execution_count": 29,
   "metadata": {},
   "outputs": [
    {
     "data": {
      "text/plain": [
       "[<__main__.Time_W at 0xb1350a10>,\n",
       " <__main__.Time_W at 0xb395d0d0>,\n",
       " <__main__.Time_W at 0xb3989970>,\n",
       " <__main__.Time_Arrows_W at 0xb13622d0>]"
      ]
     },
     "execution_count": 29,
     "metadata": {},
     "output_type": "execute_result"
    }
   ],
   "source": []
  }
 ],
 "metadata": {
  "kernelspec": {
   "display_name": "Python 3",
   "language": "python",
   "name": "python3"
  },
  "language_info": {
   "codemirror_mode": {
    "name": "ipython",
    "version": 3
   },
   "file_extension": ".py",
   "mimetype": "text/x-python",
   "name": "python",
   "nbconvert_exporter": "python",
   "pygments_lexer": "ipython3",
   "version": "3.7.3"
  }
 },
 "nbformat": 4,
 "nbformat_minor": 4
}
